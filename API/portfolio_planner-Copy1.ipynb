{
 "cells": [
  {
   "cell_type": "code",
   "execution_count": 37,
   "metadata": {},
   "outputs": [],
   "source": [
    "import numpy as np\n",
    "import os\n",
    "import pandas as pd\n",
    "from datetime import datetime, timedelta\n",
    "import matplotlib.pyplot as plt\n",
    "import alpaca_trade_api as tradeapi\n",
    "%matplotlib inline\n"
   ]
  },
  {
   "cell_type": "code",
   "execution_count": 38,
   "metadata": {},
   "outputs": [],
   "source": [
    "np.random.seed(42)"
   ]
  },
  {
   "cell_type": "code",
   "execution_count": 39,
   "metadata": {},
   "outputs": [],
   "source": [
    "from dotenv import load_dotenv\n",
    "load_dotenv()\n",
    "alpaca_api_key = os.getenv(\"ALPACA_API_KEY\")\n",
    "alpaca_secret_key = os.getenv(\"ALPACA_SECRET_KEY\")\n",
    "\n",
    "api = tradeapi.REST(alpaca_api_key, alpaca_secret_key, api_version='v2')"
   ]
  },
  {
   "cell_type": "markdown",
   "metadata": {},
   "source": [
    "# Portfolio Planner\n",
    "\n",
    "In this activity, you will use the iexfinance api to grab historical data for a 60/40 portfolio using `SPY` to represent the stock portion and `AGG` to represent the bonds."
   ]
  },
  {
   "cell_type": "markdown",
   "metadata": {},
   "source": [
    "# Data Collection\n",
    "\n",
    "In this step, you will need to use the IEX api to fetch closing prices for the `SPY` and `AGG` tickers. Save the results as a pandas DataFrame"
   ]
  },
  {
   "cell_type": "code",
   "execution_count": 40,
   "metadata": {},
   "outputs": [
    {
     "data": {
      "text/html": [
       "<div>\n",
       "<style scoped>\n",
       "    .dataframe tbody tr th:only-of-type {\n",
       "        vertical-align: middle;\n",
       "    }\n",
       "\n",
       "    .dataframe tbody tr th {\n",
       "        vertical-align: top;\n",
       "    }\n",
       "\n",
       "    .dataframe thead tr th {\n",
       "        text-align: left;\n",
       "    }\n",
       "\n",
       "    .dataframe thead tr:last-of-type th {\n",
       "        text-align: right;\n",
       "    }\n",
       "</style>\n",
       "<table border=\"1\" class=\"dataframe\">\n",
       "  <thead>\n",
       "    <tr>\n",
       "      <th></th>\n",
       "      <th colspan=\"5\" halign=\"left\">AGG</th>\n",
       "      <th colspan=\"5\" halign=\"left\">SPY</th>\n",
       "    </tr>\n",
       "    <tr>\n",
       "      <th></th>\n",
       "      <th>open</th>\n",
       "      <th>high</th>\n",
       "      <th>low</th>\n",
       "      <th>close</th>\n",
       "      <th>volume</th>\n",
       "      <th>open</th>\n",
       "      <th>high</th>\n",
       "      <th>low</th>\n",
       "      <th>close</th>\n",
       "      <th>volume</th>\n",
       "    </tr>\n",
       "    <tr>\n",
       "      <th>time</th>\n",
       "      <th></th>\n",
       "      <th></th>\n",
       "      <th></th>\n",
       "      <th></th>\n",
       "      <th></th>\n",
       "      <th></th>\n",
       "      <th></th>\n",
       "      <th></th>\n",
       "      <th></th>\n",
       "      <th></th>\n",
       "    </tr>\n",
       "  </thead>\n",
       "  <tbody>\n",
       "    <tr>\n",
       "      <td>2019-11-15 00:00:00-05:00</td>\n",
       "      <td>112.46</td>\n",
       "      <td>112.4600</td>\n",
       "      <td>112.380</td>\n",
       "      <td>112.4100</td>\n",
       "      <td>3961721</td>\n",
       "      <td>311.02</td>\n",
       "      <td>311.83</td>\n",
       "      <td>310.26</td>\n",
       "      <td>311.82</td>\n",
       "      <td>42549412</td>\n",
       "    </tr>\n",
       "    <tr>\n",
       "      <td>2019-11-18 00:00:00-05:00</td>\n",
       "      <td>112.56</td>\n",
       "      <td>112.6460</td>\n",
       "      <td>112.520</td>\n",
       "      <td>112.5950</td>\n",
       "      <td>5550696</td>\n",
       "      <td>311.53</td>\n",
       "      <td>312.28</td>\n",
       "      <td>311.03</td>\n",
       "      <td>312.00</td>\n",
       "      <td>40559312</td>\n",
       "    </tr>\n",
       "    <tr>\n",
       "      <td>2019-11-19 00:00:00-05:00</td>\n",
       "      <td>112.63</td>\n",
       "      <td>112.7600</td>\n",
       "      <td>112.600</td>\n",
       "      <td>112.7100</td>\n",
       "      <td>2181200</td>\n",
       "      <td>312.68</td>\n",
       "      <td>312.69</td>\n",
       "      <td>311.22</td>\n",
       "      <td>311.91</td>\n",
       "      <td>56892505</td>\n",
       "    </tr>\n",
       "    <tr>\n",
       "      <td>2019-11-20 00:00:00-05:00</td>\n",
       "      <td>112.83</td>\n",
       "      <td>112.9800</td>\n",
       "      <td>112.805</td>\n",
       "      <td>112.9700</td>\n",
       "      <td>3218845</td>\n",
       "      <td>311.28</td>\n",
       "      <td>311.85</td>\n",
       "      <td>309.06</td>\n",
       "      <td>310.79</td>\n",
       "      <td>62833225</td>\n",
       "    </tr>\n",
       "    <tr>\n",
       "      <td>2019-11-21 00:00:00-05:00</td>\n",
       "      <td>112.80</td>\n",
       "      <td>112.8859</td>\n",
       "      <td>112.720</td>\n",
       "      <td>112.8131</td>\n",
       "      <td>3971410</td>\n",
       "      <td>310.89</td>\n",
       "      <td>311.01</td>\n",
       "      <td>309.39</td>\n",
       "      <td>310.29</td>\n",
       "      <td>42497606</td>\n",
       "    </tr>\n",
       "  </tbody>\n",
       "</table>\n",
       "</div>"
      ],
      "text/plain": [
       "                              AGG                                        \\\n",
       "                             open      high      low     close   volume   \n",
       "time                                                                      \n",
       "2019-11-15 00:00:00-05:00  112.46  112.4600  112.380  112.4100  3961721   \n",
       "2019-11-18 00:00:00-05:00  112.56  112.6460  112.520  112.5950  5550696   \n",
       "2019-11-19 00:00:00-05:00  112.63  112.7600  112.600  112.7100  2181200   \n",
       "2019-11-20 00:00:00-05:00  112.83  112.9800  112.805  112.9700  3218845   \n",
       "2019-11-21 00:00:00-05:00  112.80  112.8859  112.720  112.8131  3971410   \n",
       "\n",
       "                              SPY                                    \n",
       "                             open    high     low   close    volume  \n",
       "time                                                                 \n",
       "2019-11-15 00:00:00-05:00  311.02  311.83  310.26  311.82  42549412  \n",
       "2019-11-18 00:00:00-05:00  311.53  312.28  311.03  312.00  40559312  \n",
       "2019-11-19 00:00:00-05:00  312.68  312.69  311.22  311.91  56892505  \n",
       "2019-11-20 00:00:00-05:00  311.28  311.85  309.06  310.79  62833225  \n",
       "2019-11-21 00:00:00-05:00  310.89  311.01  309.39  310.29  42497606  "
      ]
     },
     "execution_count": 40,
     "metadata": {},
     "output_type": "execute_result"
    }
   ],
   "source": [
    "tickers = [\"SPY\", \"AGG\"]\n",
    "# YOUR CODE HERE\n",
    "\n",
    "# Set timeframe to '1D'\n",
    "timeframe = '1D'\n",
    "\n",
    "# Set start and end datetimes of 1 year, between now and 365 days ago.\n",
    "end_date = datetime.now()\n",
    "start_date = end_date + timedelta(-365)\n",
    "\n",
    "# Get 1 year's worth of historical data for AAPL\n",
    "df = api.get_barset(\n",
    "    tickers,\n",
    "    timeframe,\n",
    "    limit=None,\n",
    "    start=start_date,\n",
    "    end=end_date,\n",
    "    after=None,\n",
    "    until=None,\n",
    ").df\n",
    "df.head()\n"
   ]
  },
  {
   "cell_type": "code",
   "execution_count": 41,
   "metadata": {},
   "outputs": [
    {
     "data": {
      "text/html": [
       "<div>\n",
       "<style scoped>\n",
       "    .dataframe tbody tr th:only-of-type {\n",
       "        vertical-align: middle;\n",
       "    }\n",
       "\n",
       "    .dataframe tbody tr th {\n",
       "        vertical-align: top;\n",
       "    }\n",
       "\n",
       "    .dataframe thead tr th {\n",
       "        text-align: left;\n",
       "    }\n",
       "\n",
       "    .dataframe thead tr:last-of-type th {\n",
       "        text-align: right;\n",
       "    }\n",
       "</style>\n",
       "<table border=\"1\" class=\"dataframe\">\n",
       "  <thead>\n",
       "    <tr>\n",
       "      <th></th>\n",
       "      <th>AGG</th>\n",
       "      <th>SPY</th>\n",
       "    </tr>\n",
       "    <tr>\n",
       "      <th></th>\n",
       "      <th>close</th>\n",
       "      <th>close</th>\n",
       "    </tr>\n",
       "    <tr>\n",
       "      <th>time</th>\n",
       "      <th></th>\n",
       "      <th></th>\n",
       "    </tr>\n",
       "  </thead>\n",
       "  <tbody>\n",
       "    <tr>\n",
       "      <td>2019-11-15 00:00:00-05:00</td>\n",
       "      <td>112.4100</td>\n",
       "      <td>311.82</td>\n",
       "    </tr>\n",
       "    <tr>\n",
       "      <td>2019-11-18 00:00:00-05:00</td>\n",
       "      <td>112.5950</td>\n",
       "      <td>312.00</td>\n",
       "    </tr>\n",
       "    <tr>\n",
       "      <td>2019-11-19 00:00:00-05:00</td>\n",
       "      <td>112.7100</td>\n",
       "      <td>311.91</td>\n",
       "    </tr>\n",
       "    <tr>\n",
       "      <td>2019-11-20 00:00:00-05:00</td>\n",
       "      <td>112.9700</td>\n",
       "      <td>310.79</td>\n",
       "    </tr>\n",
       "    <tr>\n",
       "      <td>2019-11-21 00:00:00-05:00</td>\n",
       "      <td>112.8131</td>\n",
       "      <td>310.29</td>\n",
       "    </tr>\n",
       "  </tbody>\n",
       "</table>\n",
       "</div>"
      ],
      "text/plain": [
       "                                AGG     SPY\n",
       "                              close   close\n",
       "time                                       \n",
       "2019-11-15 00:00:00-05:00  112.4100  311.82\n",
       "2019-11-18 00:00:00-05:00  112.5950  312.00\n",
       "2019-11-19 00:00:00-05:00  112.7100  311.91\n",
       "2019-11-20 00:00:00-05:00  112.9700  310.79\n",
       "2019-11-21 00:00:00-05:00  112.8131  310.29"
      ]
     },
     "execution_count": 41,
     "metadata": {},
     "output_type": "execute_result"
    }
   ],
   "source": [
    "df.drop(columns=['open', 'high', 'low', 'volume'], level=1, inplace=True)\n",
    "df.head()\n"
   ]
  },
  {
   "cell_type": "code",
   "execution_count": 42,
   "metadata": {},
   "outputs": [
    {
     "data": {
      "text/plain": [
       "AGG  close    float64\n",
       "SPY  close    float64\n",
       "dtype: object"
      ]
     },
     "execution_count": 42,
     "metadata": {},
     "output_type": "execute_result"
    }
   ],
   "source": [
    "df.dtypes"
   ]
  },
  {
   "cell_type": "markdown",
   "metadata": {},
   "source": [
    "# Monte Carlo Simulation\n",
    "\n",
    "In this step, you will run Monte Carlo Simulations for your portfolio to model portfolio performance at different retirement ages. \n",
    "\n",
    "Complete the following steps:\n",
    "1. Calculate the daily returns for the SPY and AGG closing prices.\n",
    "2. Calculate volatility for both the SPY and AGG closing prices.\n",
    "3. Find the last day's closing price for both stocks and save those as variables.\n",
    "4. Run a Monte Carlo Simulation of at least 500 iterations and generate at least 30 years of closing prices\n",
    "\n",
    "### HINTS:\n",
    "There are 252 trading days per year, so the number of records to generate for each Monte Carlo run will be 252 days * 30 years"
   ]
  },
  {
   "cell_type": "code",
   "execution_count": 43,
   "metadata": {},
   "outputs": [
    {
     "data": {
      "text/plain": [
       "0.0004497877647728977"
      ]
     },
     "execution_count": 43,
     "metadata": {},
     "output_type": "execute_result"
    }
   ],
   "source": [
    "daily_return=df.pct_change().dropna()\n",
    "daily_return\n",
    "avg_daily_return_spy = daily_return.mean()['SPY']['close']\n",
    "avg_daily_return_agg = daily_return.mean()['AGG']['close']\n",
    "avg_daily_return_agg"
   ]
  },
  {
   "cell_type": "code",
   "execution_count": 44,
   "metadata": {},
   "outputs": [
    {
     "data": {
      "text/plain": [
       "0.008479347676750357"
      ]
     },
     "execution_count": 44,
     "metadata": {},
     "output_type": "execute_result"
    }
   ],
   "source": [
    "# Calculate volatility\n",
    "# YOUR CODE HERE\n",
    "std_daily_spy= daily_return.std()['SPY']['close']\n",
    "std_daily_agg = daily_return.std()['AGG']['close']\n",
    "std_daily_agg\n",
    "\n",
    "#std_daily= daily_return.std()\n",
    "\n",
    "#std_daily.head()"
   ]
  },
  {
   "cell_type": "code",
   "execution_count": 45,
   "metadata": {},
   "outputs": [],
   "source": [
    "# Save the last day's closing price\n",
    "# YOUR CODE HERE\n",
    "spy_last_price = df['SPY']['close'][-1]\n",
    "agg_last_price = df['AGG']['close'][-1]\n"
   ]
  },
  {
   "cell_type": "code",
   "execution_count": 50,
   "metadata": {},
   "outputs": [],
   "source": [
    "# Setup the Monte Carlo Parameters\n",
    "number_simulations = 500\n",
    "number_records = 252 * 30\n",
    "monte_carlo = pd.DataFrame()\n",
    "\n",
    "simulated_df = pd.DataFrame()\n",
    "portfolio_returns = pd.DataFrame()"
   ]
  },
  {
   "cell_type": "code",
   "execution_count": 51,
   "metadata": {},
   "outputs": [
    {
     "data": {
      "text/html": [
       "<div>\n",
       "<style scoped>\n",
       "    .dataframe tbody tr th:only-of-type {\n",
       "        vertical-align: middle;\n",
       "    }\n",
       "\n",
       "    .dataframe tbody tr th {\n",
       "        vertical-align: top;\n",
       "    }\n",
       "\n",
       "    .dataframe thead th {\n",
       "        text-align: right;\n",
       "    }\n",
       "</style>\n",
       "<table border=\"1\" class=\"dataframe\">\n",
       "  <thead>\n",
       "    <tr style=\"text-align: right;\">\n",
       "      <th></th>\n",
       "      <th>0</th>\n",
       "      <th>1</th>\n",
       "      <th>2</th>\n",
       "      <th>3</th>\n",
       "      <th>4</th>\n",
       "      <th>5</th>\n",
       "      <th>6</th>\n",
       "      <th>7</th>\n",
       "      <th>8</th>\n",
       "      <th>9</th>\n",
       "      <th>...</th>\n",
       "      <th>490</th>\n",
       "      <th>491</th>\n",
       "      <th>492</th>\n",
       "      <th>493</th>\n",
       "      <th>494</th>\n",
       "      <th>495</th>\n",
       "      <th>496</th>\n",
       "      <th>497</th>\n",
       "      <th>498</th>\n",
       "      <th>499</th>\n",
       "    </tr>\n",
       "  </thead>\n",
       "  <tbody>\n",
       "    <tr>\n",
       "      <td>0</td>\n",
       "      <td>1.000000</td>\n",
       "      <td>1.000000</td>\n",
       "      <td>1.000000</td>\n",
       "      <td>1.000000</td>\n",
       "      <td>1.000000</td>\n",
       "      <td>1.000000</td>\n",
       "      <td>1.000000</td>\n",
       "      <td>1.000000</td>\n",
       "      <td>1.000000</td>\n",
       "      <td>1.000000</td>\n",
       "      <td>...</td>\n",
       "      <td>1.000000</td>\n",
       "      <td>1.000000</td>\n",
       "      <td>1.000000</td>\n",
       "      <td>1.000000</td>\n",
       "      <td>1.000000</td>\n",
       "      <td>1.000000</td>\n",
       "      <td>1.000000</td>\n",
       "      <td>1.000000</td>\n",
       "      <td>1.000000</td>\n",
       "      <td>1.000000</td>\n",
       "    </tr>\n",
       "    <tr>\n",
       "      <td>1</td>\n",
       "      <td>1.002394</td>\n",
       "      <td>0.996791</td>\n",
       "      <td>1.033734</td>\n",
       "      <td>1.021837</td>\n",
       "      <td>1.007200</td>\n",
       "      <td>0.978607</td>\n",
       "      <td>0.987407</td>\n",
       "      <td>1.012126</td>\n",
       "      <td>1.023642</td>\n",
       "      <td>0.998950</td>\n",
       "      <td>...</td>\n",
       "      <td>1.001735</td>\n",
       "      <td>1.002595</td>\n",
       "      <td>0.993425</td>\n",
       "      <td>0.983452</td>\n",
       "      <td>0.990528</td>\n",
       "      <td>1.010293</td>\n",
       "      <td>0.975102</td>\n",
       "      <td>0.989032</td>\n",
       "      <td>1.020611</td>\n",
       "      <td>0.985127</td>\n",
       "    </tr>\n",
       "    <tr>\n",
       "      <td>2</td>\n",
       "      <td>1.002193</td>\n",
       "      <td>1.006769</td>\n",
       "      <td>1.037775</td>\n",
       "      <td>1.029672</td>\n",
       "      <td>0.957877</td>\n",
       "      <td>0.983455</td>\n",
       "      <td>0.999126</td>\n",
       "      <td>1.021293</td>\n",
       "      <td>1.021552</td>\n",
       "      <td>0.995422</td>\n",
       "      <td>...</td>\n",
       "      <td>1.002132</td>\n",
       "      <td>0.976260</td>\n",
       "      <td>1.016755</td>\n",
       "      <td>0.996905</td>\n",
       "      <td>1.002265</td>\n",
       "      <td>1.009980</td>\n",
       "      <td>0.979870</td>\n",
       "      <td>0.984333</td>\n",
       "      <td>1.012362</td>\n",
       "      <td>0.992988</td>\n",
       "    </tr>\n",
       "    <tr>\n",
       "      <td>3</td>\n",
       "      <td>1.009603</td>\n",
       "      <td>1.034764</td>\n",
       "      <td>1.003110</td>\n",
       "      <td>1.014051</td>\n",
       "      <td>0.961169</td>\n",
       "      <td>0.970057</td>\n",
       "      <td>0.982128</td>\n",
       "      <td>1.007513</td>\n",
       "      <td>1.026642</td>\n",
       "      <td>0.997189</td>\n",
       "      <td>...</td>\n",
       "      <td>0.986985</td>\n",
       "      <td>0.980001</td>\n",
       "      <td>1.006379</td>\n",
       "      <td>0.994428</td>\n",
       "      <td>0.988611</td>\n",
       "      <td>0.992736</td>\n",
       "      <td>1.001202</td>\n",
       "      <td>0.998833</td>\n",
       "      <td>1.027539</td>\n",
       "      <td>0.989647</td>\n",
       "    </tr>\n",
       "    <tr>\n",
       "      <td>4</td>\n",
       "      <td>0.982929</td>\n",
       "      <td>1.063623</td>\n",
       "      <td>1.019879</td>\n",
       "      <td>1.009709</td>\n",
       "      <td>0.948341</td>\n",
       "      <td>0.983489</td>\n",
       "      <td>0.979112</td>\n",
       "      <td>1.031206</td>\n",
       "      <td>1.018671</td>\n",
       "      <td>0.977774</td>\n",
       "      <td>...</td>\n",
       "      <td>0.986012</td>\n",
       "      <td>0.936291</td>\n",
       "      <td>1.039180</td>\n",
       "      <td>1.004834</td>\n",
       "      <td>0.963346</td>\n",
       "      <td>1.005560</td>\n",
       "      <td>1.032951</td>\n",
       "      <td>0.984500</td>\n",
       "      <td>1.006840</td>\n",
       "      <td>0.983694</td>\n",
       "    </tr>\n",
       "  </tbody>\n",
       "</table>\n",
       "<p>5 rows × 500 columns</p>\n",
       "</div>"
      ],
      "text/plain": [
       "        0         1         2         3         4         5         6    \\\n",
       "0  1.000000  1.000000  1.000000  1.000000  1.000000  1.000000  1.000000   \n",
       "1  1.002394  0.996791  1.033734  1.021837  1.007200  0.978607  0.987407   \n",
       "2  1.002193  1.006769  1.037775  1.029672  0.957877  0.983455  0.999126   \n",
       "3  1.009603  1.034764  1.003110  1.014051  0.961169  0.970057  0.982128   \n",
       "4  0.982929  1.063623  1.019879  1.009709  0.948341  0.983489  0.979112   \n",
       "\n",
       "        7         8         9    ...       490       491       492       493  \\\n",
       "0  1.000000  1.000000  1.000000  ...  1.000000  1.000000  1.000000  1.000000   \n",
       "1  1.012126  1.023642  0.998950  ...  1.001735  1.002595  0.993425  0.983452   \n",
       "2  1.021293  1.021552  0.995422  ...  1.002132  0.976260  1.016755  0.996905   \n",
       "3  1.007513  1.026642  0.997189  ...  0.986985  0.980001  1.006379  0.994428   \n",
       "4  1.031206  1.018671  0.977774  ...  0.986012  0.936291  1.039180  1.004834   \n",
       "\n",
       "        494       495       496       497       498       499  \n",
       "0  1.000000  1.000000  1.000000  1.000000  1.000000  1.000000  \n",
       "1  0.990528  1.010293  0.975102  0.989032  1.020611  0.985127  \n",
       "2  1.002265  1.009980  0.979870  0.984333  1.012362  0.992988  \n",
       "3  0.988611  0.992736  1.001202  0.998833  1.027539  0.989647  \n",
       "4  0.963346  1.005560  1.032951  0.984500  1.006840  0.983694  \n",
       "\n",
       "[5 rows x 500 columns]"
      ]
     },
     "execution_count": 51,
     "metadata": {},
     "output_type": "execute_result"
    }
   ],
   "source": [
    "# Run the Monte Carlo Simulation\n",
    "for x in range(number_simulations):\n",
    "    simulated_spy_prices = [spy_last_price]\n",
    "    simulated_agg_prices = [agg_last_price]\n",
    "    # YOUR CODE HERE\n",
    "    for i in range(number_records):\n",
    "        \n",
    "        # Calculate the simulated price using the last price within the list\n",
    "        simulated_spy= simulated_spy_prices[-1] * (1 + np.random.normal(avg_daily_return_spy, std_daily_spy))\n",
    "        simulated_agg = simulated_agg_prices[-1] * (1 + np.random.normal(avg_daily_return_agg, std_daily_agg))\n",
    "        \n",
    "        # Append the simulated price to the list\n",
    "        simulated_spy_prices.append(simulated_spy)\n",
    "        simulated_agg_prices.append(simulated_agg)\n",
    "    \n",
    "    # Append a simulated prices of each simulation to DataFrame\n",
    "    simulated_df[\"SPY prices\"] = pd.Series(simulated_spy_prices)\n",
    "    simulated_df[\"AGG prices\"] = pd.Series(simulated_agg_prices)\n",
    "    \n",
    "    # Calculate the daily returns of simulated prices\n",
    "    simulated_daily_returns = simulated_df.pct_change()\n",
    "    \n",
    "    # Set the portfolio weights (60% SPY; 40% AGG)\n",
    "    weights = [0.60, 0.40]\n",
    "\n",
    "    # Use the `dot` function with the weights to multiply weights with each column's simulated daily returns\n",
    "    portfolio_daily_returns = simulated_daily_returns.dot(weights)\n",
    "    \n",
    "    # Calculate the normalized, cumulative return series\n",
    "    portfolio_returns[x] = (1 + portfolio_daily_returns.fillna(0)).cumprod()\n",
    "\n",
    "# Print records from the DataFrame\n",
    "portfolio_returns.head()"
   ]
  },
  {
   "cell_type": "code",
   "execution_count": 74,
   "metadata": {},
   "outputs": [
    {
     "data": {
      "text/plain": [
       "<matplotlib.axes._subplots.AxesSubplot at 0x11d9f7fd0>"
      ]
     },
     "execution_count": 74,
     "metadata": {},
     "output_type": "execute_result"
    },
    {
     "data": {
      "image/png": "[encoded data removed]",
      "text/plain": [
       "<Figure size 432x288 with 1 Axes>"
      ]
     },
     "metadata": {
      "needs_background": "light"
     },
     "output_type": "display_data"
    }
   ],
   "source": [
    "# Visualize the Simulation\n",
    "# YOUR CODE HERE\n",
    "plot_title = f\"500 Simulations of Cumulative Portfolio Return Over the Next 30 Years\"\n",
    "portfolio_returns.plot(legend=None, title=plot_title)"
   ]
  },
  {
   "cell_type": "code",
   "execution_count": 53,
   "metadata": {},
   "outputs": [
    {
     "data": {
      "text/plain": [
       "495    0.344174\n",
       "496    0.497106\n",
       "497    0.013640\n",
       "498    0.174985\n",
       "499    0.472895\n",
       "Name: 7560, dtype: float64"
      ]
     },
     "execution_count": 53,
     "metadata": {},
     "output_type": "execute_result"
    }
   ],
   "source": [
    "# Select the last row for the cumulative returns (cumulative returns at 30 years)\n",
    "# YOUR CODE HERE\n",
    "last_cumulative_returns_30 = portfolio_returns.iloc[252*30, :]\n",
    "last_cumulative_returns_30.tail()"
   ]
  },
  {
   "cell_type": "code",
   "execution_count": 55,
   "metadata": {},
   "outputs": [
    {
     "data": {
      "text/plain": [
       "495    0.462897\n",
       "496    1.722324\n",
       "497    0.120176\n",
       "498    0.217168\n",
       "499    0.925699\n",
       "Name: 5040, dtype: float64"
      ]
     },
     "execution_count": 55,
     "metadata": {},
     "output_type": "execute_result"
    }
   ],
   "source": [
    "# Select the last row for the cumulative returns (cumulative returns at 20 years)\n",
    "# YOUR CODE HERE\n",
    "cumulative_returns_20 = portfolio_returns.iloc[252*20, :]\n",
    "cumulative_returns_20.tail()"
   ]
  },
  {
   "cell_type": "code",
   "execution_count": 81,
   "metadata": {},
   "outputs": [
    {
     "data": {
      "text/plain": [
       "<matplotlib.lines.Line2D at 0x1407b6d10>"
      ]
     },
     "execution_count": 81,
     "metadata": {},
     "output_type": "execute_result"
    },
    {
     "data": {
      "image/png": "[encoded data removed]",
      "text/plain": [
       "<Figure size 432x288 with 1 Axes>"
      ]
     },
     "metadata": {
      "needs_background": "light"
     },
     "output_type": "display_data"
    }
   ],
   "source": [
    "# Display the 90% confidence interval for the ending returns\n",
    "# YOUR CODE HERE\n",
    "confidence_interval = last_cumulative_returns_30.quantile(q=[0.05, 0.95])\n",
    "plt.figure();\n",
    "last_cumulative_returns_30.plot(kind='hist', density=True, bins=10)\n",
    "plt.axvline(confidence_interval.iloc[0], color='r')\n",
    "plt.axvline(confidence_interval.iloc[1], color='r')"
   ]
  },
  {
   "cell_type": "code",
   "execution_count": 60,
   "metadata": {},
   "outputs": [
    {
     "data": {
      "text/plain": [
       "<matplotlib.lines.Line2D at 0x11d9bec50>"
      ]
     },
     "execution_count": 60,
     "metadata": {},
     "output_type": "execute_result"
    },
    {
     "data": {
      "image/png": "[encoded data removed]",
      "text/plain": [
       "<Figure size 432x288 with 1 Axes>"
      ]
     },
     "metadata": {
      "needs_background": "light"
     },
     "output_type": "display_data"
    }
   ],
   "source": [
    "confidence_interval = cumulative_returns_20.quantile(q=[0.05, 0.95])\n",
    "plt.figure();\n",
    "cumulative_returns_20.plot(kind='hist', density=True, bins=10)\n",
    "plt.axvline(confidence_interval.iloc[0], color='r')\n",
    "plt.axvline(confidence_interval.iloc[1], color='r')"
   ]
  },
  {
   "cell_type": "code",
   "execution_count": 62,
   "metadata": {},
   "outputs": [
    {
     "data": {
      "text/plain": [
       "<matplotlib.axes._subplots.AxesSubplot at 0x11dadf710>"
      ]
     },
     "execution_count": 62,
     "metadata": {},
     "output_type": "execute_result"
    },
    {
     "data": {
      "image/png": "[encoded data removed]",
      "text/plain": [
       "<Figure size 432x288 with 1 Axes>"
      ]
     },
     "metadata": {
      "needs_background": "light"
     },
     "output_type": "display_data"
    }
   ],
   "source": [
    "last_cumulative_returns_30.plot(kind='hist', bins=10)"
   ]
  },
  {
   "cell_type": "markdown",
   "metadata": {},
   "source": [
    "---"
   ]
  },
  {
   "cell_type": "markdown",
   "metadata": {},
   "source": [
    "# Retirement Analysis\n",
    "\n",
    "In this section, you will use the monte carlo model to answer the following retirement planning questions:\n",
    "\n",
    "1. What are the expected cumulative returns at 30 years for the 10th, 50th, and 90th percentiles?\n",
    "2. Given an initial investment of `$20,000`, what is the expected portfolio return in dollars at the 10th, 50th, and 90th percentiles?\n",
    "3. Given the current projected annual income from the Plaid analysis, will a 4% withdraw rate from the retirement portfolio meet or exceed that value at the 10th percentile?\n",
    "4. How would a 50% increase in the initial investment amount affect the 4% retirement withdrawal?"
   ]
  },
  {
   "cell_type": "markdown",
   "metadata": {},
   "source": [
    "### What are the expected cumulative returns at 30 years for the 10th, 50th, and 90th percentiles?"
   ]
  },
  {
   "cell_type": "code",
   "execution_count": 64,
   "metadata": {},
   "outputs": [
    {
     "name": "stdout",
     "output_type": "stream",
     "text": [
      "Expected cumulative portfolio return at 30 years for the 10th % is 0.01.\n",
      "Expected cumulative portfolio return at 30 years for the 50th % is 0.03.\n",
      "Expected cumulative portfolio return at 30 years for the 90th % is 0.38.\n"
     ]
    }
   ],
   "source": [
    "# YOUR CODE HERE\n",
    "print(f\"Expected cumulative portfolio return at 30 years for the 10th % is {round(np.percentile(last_cumulative_returns_30,10),2)}.\")\n",
    "print(f\"Expected cumulative portfolio return at 30 years for the 50th % is {round(np.percentile(last_cumulative_returns_30,50),2)}.\")\n",
    "print(f\"Expected cumulative portfolio return at 30 years for the 90th % is {round(np.percentile(last_cumulative_returns_30,90),2)}.\")"
   ]
  },
  {
   "cell_type": "markdown",
   "metadata": {},
   "source": [
    "### Given an initial investment of `$20,000`, what is the expected portfolio return in dollars at the 10th, 50th, and 90th percentiles?"
   ]
  },
  {
   "cell_type": "code",
   "execution_count": 65,
   "metadata": {},
   "outputs": [
    {
     "name": "stdout",
     "output_type": "stream",
     "text": [
      "Expected portfolio return in dollars at the 10th percentile is $100.03.\n",
      "Expected portfolio return in dollars at the 50th percentile is $685.33.\n",
      "Expected portfolio return in dollars at the 90th percentile is $7662.78.\n"
     ]
    }
   ],
   "source": [
    "# YOUR CODE HERE\n",
    "initial_investment = 20000\n",
    "cumulative_pnl = initial_investment * last_cumulative_returns_30\n",
    "print(f\"Expected portfolio return in dollars at the 10th percentile is ${round(np.percentile(cumulative_pnl,10),2)}.\")\n",
    "print(f\"Expected portfolio return in dollars at the 50th percentile is ${round(np.percentile(cumulative_pnl,50),2)}.\")\n",
    "print(f\"Expected portfolio return in dollars at the 90th percentile is ${round(np.percentile(cumulative_pnl,90),2)}.\")"
   ]
  },
  {
   "cell_type": "markdown",
   "metadata": {},
   "source": [
    "### Given the current projected annual income from the Plaid analysis, will a 4% withdraw rate from the retirement portfolio meet or exceed that value at the 10th percentile?\n",
    "\n",
    "Note: This is effectively saying that 90% of the expected returns will be greater than the return at the 10th percentile, so this can help measure the uncertainty about having enough funds at retirement"
   ]
  },
  {
   "cell_type": "code",
   "execution_count": 66,
   "metadata": {},
   "outputs": [
    {
     "name": "stdout",
     "output_type": "stream",
     "text": [
      "4% withdraw is not sufficient to cover the projected annual income\n"
     ]
    }
   ],
   "source": [
    "# YOUR CODE HERE\n",
    "withdraw = 0.04*(round(np.percentile(cumulative_pnl,10),2))\n",
    "projected_yearly_income=7389\n",
    "\n",
    "if withdraw >= projected_yearly_income:\n",
    "    print(\"4% withdraw is sufficient to cover the projected annual income\")\n",
    "else:\n",
    "    print(\"4% withdraw is not sufficient to cover the projected annual income\")"
   ]
  },
  {
   "cell_type": "markdown",
   "metadata": {},
   "source": [
    "### How would a 50% increase in the initial investment amount affect the 4% retirement withdrawal?"
   ]
  },
  {
   "cell_type": "code",
   "execution_count": 70,
   "metadata": {},
   "outputs": [
    {
     "name": "stdout",
     "output_type": "stream",
     "text": [
      "4% withdraw is not sufficient to cover the projected annual income\n"
     ]
    }
   ],
   "source": [
    "# YOUR CODE HERE\n",
    "initial_investment_2 = 1.5*initial_investment\n",
    "cumulative_pnl_2 = initial_investment_2 * last_cumulative_returns_30\n",
    "withdraw_2 = 0.04*(round(np.percentile(cumulative_pnl_2,10),2))\n",
    "projected_yearly_income=7389\n",
    "\n",
    "if withdraw_2 >= projected_yearly_income:\n",
    "    print(\"4% withdraw is sufficient to cover the projected annual income\")\n",
    "else:\n",
    "    print(\"4% withdraw is not sufficient to cover the projected annual income\")"
   ]
  },
  {
   "cell_type": "markdown",
   "metadata": {},
   "source": [
    "### Optional Challenge\n",
    "\n",
    "In this section, you will calculate and plot the cumulative returns for the median and 90% confidence intervals. This plot shows the expected cumulative returns for any given day between the first day and the last day of investment. "
   ]
  },
  {
   "cell_type": "code",
   "execution_count": 73,
   "metadata": {},
   "outputs": [
    {
     "data": {
      "text/plain": [
       "<matplotlib.lines.Line2D at 0x11da186d0>"
      ]
     },
     "execution_count": 73,
     "metadata": {},
     "output_type": "execute_result"
    },
    {
     "data": {
      "image/png": "[encoded data removed]",
      "text/plain": [
       "<Figure size 432x288 with 1 Axes>"
      ]
     },
     "metadata": {
      "needs_background": "light"
     },
     "output_type": "display_data"
    }
   ],
   "source": [
    "# YOUR CODE HERE\n",
    "cumilative_pnl = cumulative_pnl_2.quantile(q=[0.05, 0.95])\n",
    "plt.figure();\n",
    "cumulative_pnl_2.plot(kind='hist', density=True, bins=10)\n",
    "plt.axvline(confidence_interval.iloc[0], color='r')\n",
    "plt.axvline(confidence_interval.iloc[1], color='r')"
   ]
  },
  {
   "cell_type": "code",
   "execution_count": null,
   "metadata": {},
   "outputs": [],
   "source": []
  }
 ],
 "metadata": {
  "kernel_info": {
   "name": "dev"
  },
  "kernelspec": {
   "display_name": "Python 3",
   "language": "python",
   "name": "python3"
  },
  "language_info": {
   "codemirror_mode": {
    "name": "ipython",
    "version": 3
   },
   "file_extension": ".py",
   "mimetype": "text/x-python",
   "name": "python",
   "nbconvert_exporter": "python",
   "pygments_lexer": "ipython3",
   "version": "3.7.4"
  },
  "nteract": {
   "version": "0.12.3"
  }
 },
 "nbformat": 4,
 "nbformat_minor": 4
}
